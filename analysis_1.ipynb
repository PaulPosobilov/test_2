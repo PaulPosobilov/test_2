{
 "cells": [
  {
   "cell_type": "code",
   "execution_count": 1,
   "id": "b64feb7a",
   "metadata": {
    "scrolled": true
   },
   "outputs": [],
   "source": [
    "#Импорт библиотек\n",
    "import pandas as pd\n",
    "import matplotlib.pyplot as plt\n",
    "import seaborn as sns\n",
    "pd.options.display.float_format ='{:,.0f}'.format"
   ]
  },
  {
   "cell_type": "code",
   "execution_count": 2,
   "id": "e7a7e339",
   "metadata": {
    "scrolled": true
   },
   "outputs": [],
   "source": [
    "#Загрузка данных\n",
    "df=pd.read_excel('/datasets/new_history_03102023.xlsx')"
   ]
  },
  {
   "cell_type": "code",
   "execution_count": 3,
   "id": "02654718",
   "metadata": {
    "scrolled": false
   },
   "outputs": [
    {
     "name": "stdout",
     "output_type": "stream",
     "text": [
      "<class 'pandas.core.frame.DataFrame'>\n",
      "RangeIndex: 171487 entries, 0 to 171486\n",
      "Data columns (total 45 columns):\n",
      " #   Column                    Non-Null Count   Dtype  \n",
      "---  ------                    --------------   -----  \n",
      " 0   ID Корпуса                171487 non-null  int64  \n",
      " 1   ID ЖК                     171487 non-null  int64  \n",
      " 2   ЖК рус                    171487 non-null  object \n",
      " 3   ЖК англ                   56952 non-null   object \n",
      " 4   Корпус                    171487 non-null  object \n",
      " 5   кр Корпус                 171487 non-null  object \n",
      " 6   Регион                    171487 non-null  object \n",
      " 7   ID кв                     171487 non-null  int64  \n",
      " 8   Дата актуализации         171487 non-null  object \n",
      " 9   Комнат                    171487 non-null  int64  \n",
      " 10  Площадь                   168124 non-null  float64\n",
      " 11  Цена                      171169 non-null  float64\n",
      " 12  Цена кв м                 167806 non-null  float64\n",
      " 13  Этаж                      168961 non-null  float64\n",
      " 14  Номер на этаже            7457 non-null    float64\n",
      " 15  Номер в корпусе           167945 non-null  object \n",
      " 16  Номер секции              90468 non-null   object \n",
      " 17  Адрес корп                171487 non-null  object \n",
      " 18  lat                       171487 non-null  float64\n",
      " 19  lng                       171487 non-null  float64\n",
      " 20  Район Город               171487 non-null  object \n",
      " 21  Округ Направление         171487 non-null  object \n",
      " 22  АТД                       171487 non-null  object \n",
      " 23  Источник                  171487 non-null  object \n",
      " 24  Тип корпуса               171487 non-null  object \n",
      " 25  Класс К                   171487 non-null  object \n",
      " 26  Тип кв/ап                 44772 non-null   object \n",
      " 27  Застройщик                171487 non-null  object \n",
      " 28  Тип помещения             171487 non-null  object \n",
      " 29  Отделка помещения         171487 non-null  object \n",
      " 30  Отделка К                 171487 non-null  object \n",
      " 31  Договор К                 171487 non-null  object \n",
      " 32  Сдача К                   171276 non-null  object \n",
      " 33  Стадия К                  171487 non-null  object \n",
      " 34  Цена со скидкой           33896 non-null   float64\n",
      " 35  Зона                      171487 non-null  object \n",
      " 36  Отделка текст             75490 non-null   object \n",
      " 37  Старт продаж К            167741 non-null  float64\n",
      " 38  Изменение цены последнее  171487 non-null  int64  \n",
      " 39  Экспозиция                171487 non-null  int64  \n",
      " 40  Изменение цены            171487 non-null  int64  \n",
      " 41  Жилая площадь             171487 non-null  float64\n",
      " 42  Площадь кухни             171487 non-null  float64\n",
      " 43  ID дом.рф                 160466 non-null  float64\n",
      " 44  Высота потолков           171487 non-null  int64  \n",
      "dtypes: float64(12), int64(8), object(25)\n",
      "memory usage: 58.9+ MB\n"
     ]
    }
   ],
   "source": [
    "#Информация о таблице\n",
    "df.info()"
   ]
  },
  {
   "cell_type": "code",
   "execution_count": 4,
   "id": "1b3bb09c",
   "metadata": {
    "scrolled": true
   },
   "outputs": [
    {
     "data": {
      "text/plain": [
       "Квартира         96358\n",
       "Машино-место     36399\n",
       "Кладовка         28387\n",
       "Апартамент        8888\n",
       "Нежилое           1038\n",
       "Офис               168\n",
       "Таунхаус(дом)      168\n",
       "Кв/ап               81\n",
       "Name: Тип помещения, dtype: int64"
      ]
     },
     "execution_count": 4,
     "metadata": {},
     "output_type": "execute_result"
    }
   ],
   "source": [
    "#Информацию по типу помещения\n",
    "df['Тип помещения'].value_counts()"
   ]
  },
  {
   "cell_type": "code",
   "execution_count": 5,
   "id": "1bff0aac",
   "metadata": {
    "scrolled": false
   },
   "outputs": [
    {
     "data": {
      "text/plain": [
       "0    168\n",
       "Name: Комнат, dtype: int64"
      ]
     },
     "execution_count": 5,
     "metadata": {},
     "output_type": "execute_result"
    }
   ],
   "source": [
    "#Проверим сколько комнат имеют объекты с типом помещения 'Таунхаус(дом)'\n",
    "df[df['Тип помещения']=='Таунхаус(дом)']['Комнат'].value_counts()"
   ]
  },
  {
   "cell_type": "code",
   "execution_count": 6,
   "id": "266ef5f4",
   "metadata": {
    "scrolled": true
   },
   "outputs": [],
   "source": [
    "#Удаляем из данных строки с типом помещения: Машино-место, Кладовка, Нежилое, Офис.\n",
    "#Ещё удалим тип помещения Таунхаус(дом), так как у всех этих объектов 0 комнат и некорректно будет оставлять их в данных\n",
    "save=['Квартира','Апартамент','Кв/ап']\n",
    "df=df[df['Тип помещения'].isin(save)]"
   ]
  },
  {
   "cell_type": "code",
   "execution_count": 7,
   "id": "0c2c18bc",
   "metadata": {
    "scrolled": true
   },
   "outputs": [
    {
     "data": {
      "text/plain": [
       "Квартира      96358\n",
       "Апартамент     8888\n",
       "Кв/ап            81\n",
       "Name: Тип помещения, dtype: int64"
      ]
     },
     "execution_count": 7,
     "metadata": {},
     "output_type": "execute_result"
    }
   ],
   "source": [
    "#Проверяем изменения\n",
    "df['Тип помещения'].value_counts()"
   ]
  },
  {
   "cell_type": "code",
   "execution_count": 8,
   "id": "faa5d09a",
   "metadata": {
    "scrolled": true
   },
   "outputs": [],
   "source": [
    "#Удаление строк с пропусками по столбцам 'Цена' и 'Площадь'\n",
    "df=df.dropna(subset=['Цена','Площадь'])"
   ]
  },
  {
   "cell_type": "code",
   "execution_count": 9,
   "id": "0b2a1907",
   "metadata": {
    "scrolled": true
   },
   "outputs": [
    {
     "name": "stdout",
     "output_type": "stream",
     "text": [
      "Пропусков в столбце \"Площадь\": 0\n",
      "Пропусков в столбце \"Цена\": 0\n"
     ]
    }
   ],
   "source": [
    "#Проверка пропусков после удаления\n",
    "print('Пропусков в столбце \"Площадь\":',df['Площадь'].isna().sum())\n",
    "print('Пропусков в столбце \"Цена\":',df['Цена'].isna().sum())"
   ]
  },
  {
   "cell_type": "code",
   "execution_count": 10,
   "id": "eb6b2491",
   "metadata": {
    "scrolled": false
   },
   "outputs": [
    {
     "data": {
      "text/html": [
       "<div>\n",
       "<style scoped>\n",
       "    .dataframe tbody tr th:only-of-type {\n",
       "        vertical-align: middle;\n",
       "    }\n",
       "\n",
       "    .dataframe tbody tr th {\n",
       "        vertical-align: top;\n",
       "    }\n",
       "\n",
       "    .dataframe thead th {\n",
       "        text-align: right;\n",
       "    }\n",
       "</style>\n",
       "<table border=\"1\" class=\"dataframe\">\n",
       "  <thead>\n",
       "    <tr style=\"text-align: right;\">\n",
       "      <th></th>\n",
       "      <th></th>\n",
       "      <th>Cредневзвешенная цена кв м в руб</th>\n",
       "    </tr>\n",
       "    <tr>\n",
       "      <th>Класс К</th>\n",
       "      <th>Комнат</th>\n",
       "      <th></th>\n",
       "    </tr>\n",
       "  </thead>\n",
       "  <tbody>\n",
       "    <tr>\n",
       "      <th rowspan=\"5\" valign=\"top\">бизнес</th>\n",
       "      <th>0</th>\n",
       "      <td>512,516</td>\n",
       "    </tr>\n",
       "    <tr>\n",
       "      <th>1</th>\n",
       "      <td>460,655</td>\n",
       "    </tr>\n",
       "    <tr>\n",
       "      <th>2</th>\n",
       "      <td>422,617</td>\n",
       "    </tr>\n",
       "    <tr>\n",
       "      <th>3</th>\n",
       "      <td>432,035</td>\n",
       "    </tr>\n",
       "    <tr>\n",
       "      <th>4</th>\n",
       "      <td>454,190</td>\n",
       "    </tr>\n",
       "    <tr>\n",
       "      <th rowspan=\"5\" valign=\"top\">де-люкс</th>\n",
       "      <th>0</th>\n",
       "      <td>3,567,703</td>\n",
       "    </tr>\n",
       "    <tr>\n",
       "      <th>1</th>\n",
       "      <td>2,096,299</td>\n",
       "    </tr>\n",
       "    <tr>\n",
       "      <th>2</th>\n",
       "      <td>2,216,850</td>\n",
       "    </tr>\n",
       "    <tr>\n",
       "      <th>3</th>\n",
       "      <td>2,045,045</td>\n",
       "    </tr>\n",
       "    <tr>\n",
       "      <th>4</th>\n",
       "      <td>2,591,333</td>\n",
       "    </tr>\n",
       "    <tr>\n",
       "      <th rowspan=\"5\" valign=\"top\">комфорт</th>\n",
       "      <th>0</th>\n",
       "      <td>222,539</td>\n",
       "    </tr>\n",
       "    <tr>\n",
       "      <th>1</th>\n",
       "      <td>304,145</td>\n",
       "    </tr>\n",
       "    <tr>\n",
       "      <th>2</th>\n",
       "      <td>264,522</td>\n",
       "    </tr>\n",
       "    <tr>\n",
       "      <th>3</th>\n",
       "      <td>243,867</td>\n",
       "    </tr>\n",
       "    <tr>\n",
       "      <th>4</th>\n",
       "      <td>215,939</td>\n",
       "    </tr>\n",
       "    <tr>\n",
       "      <th rowspan=\"5\" valign=\"top\">премиум</th>\n",
       "      <th>0</th>\n",
       "      <td>880,746</td>\n",
       "    </tr>\n",
       "    <tr>\n",
       "      <th>1</th>\n",
       "      <td>853,852</td>\n",
       "    </tr>\n",
       "    <tr>\n",
       "      <th>2</th>\n",
       "      <td>744,513</td>\n",
       "    </tr>\n",
       "    <tr>\n",
       "      <th>3</th>\n",
       "      <td>785,822</td>\n",
       "    </tr>\n",
       "    <tr>\n",
       "      <th>4</th>\n",
       "      <td>1,039,899</td>\n",
       "    </tr>\n",
       "    <tr>\n",
       "      <th rowspan=\"5\" valign=\"top\">эконом</th>\n",
       "      <th>0</th>\n",
       "      <td>151,548</td>\n",
       "    </tr>\n",
       "    <tr>\n",
       "      <th>1</th>\n",
       "      <td>203,654</td>\n",
       "    </tr>\n",
       "    <tr>\n",
       "      <th>2</th>\n",
       "      <td>182,502</td>\n",
       "    </tr>\n",
       "    <tr>\n",
       "      <th>3</th>\n",
       "      <td>173,142</td>\n",
       "    </tr>\n",
       "    <tr>\n",
       "      <th>4</th>\n",
       "      <td>172,921</td>\n",
       "    </tr>\n",
       "    <tr>\n",
       "      <th rowspan=\"4\" valign=\"top\">эконом (панель)</th>\n",
       "      <th>1</th>\n",
       "      <td>226,523</td>\n",
       "    </tr>\n",
       "    <tr>\n",
       "      <th>2</th>\n",
       "      <td>212,490</td>\n",
       "    </tr>\n",
       "    <tr>\n",
       "      <th>3</th>\n",
       "      <td>201,696</td>\n",
       "    </tr>\n",
       "    <tr>\n",
       "      <th>4</th>\n",
       "      <td>192,973</td>\n",
       "    </tr>\n",
       "  </tbody>\n",
       "</table>\n",
       "</div>"
      ],
      "text/plain": [
       "                        Cредневзвешенная цена кв м в руб\n",
       "Класс К         Комнат                                  \n",
       "бизнес          0                                512,516\n",
       "                1                                460,655\n",
       "                2                                422,617\n",
       "                3                                432,035\n",
       "                4                                454,190\n",
       "де-люкс         0                              3,567,703\n",
       "                1                              2,096,299\n",
       "                2                              2,216,850\n",
       "                3                              2,045,045\n",
       "                4                              2,591,333\n",
       "комфорт         0                                222,539\n",
       "                1                                304,145\n",
       "                2                                264,522\n",
       "                3                                243,867\n",
       "                4                                215,939\n",
       "премиум         0                                880,746\n",
       "                1                                853,852\n",
       "                2                                744,513\n",
       "                3                                785,822\n",
       "                4                              1,039,899\n",
       "эконом          0                                151,548\n",
       "                1                                203,654\n",
       "                2                                182,502\n",
       "                3                                173,142\n",
       "                4                                172,921\n",
       "эконом (панель) 1                                226,523\n",
       "                2                                212,490\n",
       "                3                                201,696\n",
       "                4                                192,973"
      ]
     },
     "execution_count": 10,
     "metadata": {},
     "output_type": "execute_result"
    }
   ],
   "source": [
    "#Создание итоговой таблицы\n",
    "df_final=df.groupby(['Класс К','Комнат']).agg({'Площадь':'sum','Цена':'sum'})\n",
    "df_final['Cредневзвешенная цена кв м в руб']=df_final['Цена']/df_final['Площадь']\n",
    "\n",
    "df_final=df_final[['Cредневзвешенная цена кв м в руб']]\n",
    "df_final"
   ]
  },
  {
   "cell_type": "code",
   "execution_count": 11,
   "id": "61f97578",
   "metadata": {
    "scrolled": true
   },
   "outputs": [],
   "source": [
    "df_final=df_final.reset_index()"
   ]
  },
  {
   "cell_type": "code",
   "execution_count": 12,
   "id": "584e6ae4",
   "metadata": {
    "scrolled": false
   },
   "outputs": [
    {
     "data": {
      "image/png": "[encoded data removed]",
      "text/plain": [
       "<Figure size 1008x720 with 2 Axes>"
      ]
     },
     "metadata": {
      "needs_background": "light"
     },
     "output_type": "display_data"
    }
   ],
   "source": [
    "#Тепловая карта\n",
    "df_for_heatmap = df_final.pivot(index=\"Класс К\", columns=\"Комнат\", values=\"Cредневзвешенная цена кв м в руб\")\n",
    "fig, ax = plt.subplots(figsize=(14, 10))\n",
    "sns.heatmap(df_for_heatmap,annot=True,fmt=\".0f\",vmin=55383, vmax=3567703,cmap= 'BuPu')\n",
    "plt.title('Cредневзвешенная цена кв.м. в руб.')\n",
    "plt.show()"
   ]
  },
  {
   "cell_type": "code",
   "execution_count": 13,
   "id": "38b2977c",
   "metadata": {
    "scrolled": false
   },
   "outputs": [
    {
     "data": {
      "image/png": "[encoded data removed]",
      "text/plain": [
       "<Figure size 864x432 with 1 Axes>"
      ]
     },
     "metadata": {
      "needs_background": "light"
     },
     "output_type": "display_data"
    },
    {
     "data": {
      "image/png": "[encoded data removed]",
      "text/plain": [
       "<Figure size 864x432 with 1 Axes>"
      ]
     },
     "metadata": {
      "needs_background": "light"
     },
     "output_type": "display_data"
    },
    {
     "data": {
      "image/png": "[encoded data removed]",
      "text/plain": [
       "<Figure size 864x432 with 1 Axes>"
      ]
     },
     "metadata": {
      "needs_background": "light"
     },
     "output_type": "display_data"
    },
    {
     "data": {
      "image/png": "[encoded data removed]",
      "text/plain": [
       "<Figure size 864x432 with 1 Axes>"
      ]
     },
     "metadata": {
      "needs_background": "light"
     },
     "output_type": "display_data"
    },
    {
     "data": {
      "image/png": "[encoded data removed]",
      "text/plain": [
       "<Figure size 864x432 with 1 Axes>"
      ]
     },
     "metadata": {
      "needs_background": "light"
     },
     "output_type": "display_data"
    },
    {
     "data": {
      "image/png": "[encoded data removed]",
      "text/plain": [
       "<Figure size 864x432 with 1 Axes>"
      ]
     },
     "metadata": {
      "needs_background": "light"
     },
     "output_type": "display_data"
    }
   ],
   "source": [
    "#Графики\n",
    "for name in df_final['Класс К'].unique():\n",
    "   fig, ax = plt.subplots(figsize=(12,6))\n",
    "   ax.yaxis.get_major_formatter().set_scientific(False)\n",
    "   ax.yaxis.get_major_formatter().set_useOffset(False)\n",
    "   ax = sns.barplot(x = 'Комнат', y = 'Cредневзвешенная цена кв м в руб', data = df_final[df_final['Класс К']==name], color='steelblue')\n",
    "   ax.set_title(f'Класс \"{name}\"')\n",
    "   ax.set_ylabel('Средневзвешенная цена за кв. м в руб.')\n",
    "   ax.set_xlabel('Количество комнат')\n",
    "   plt.grid()\n",
    "   plt.show()"
   ]
  },
  {
   "cell_type": "markdown",
   "id": "aa7ff442",
   "metadata": {},
   "source": [
    "Дополнительно проверим, с помощью изначальной колонки Цена кв м, почему квартиры с 0 комнат имеют меньшую стоимость квадратного метра,чем остальные в классах: \"Эконом\", \"Комфорт\"."
   ]
  },
  {
   "cell_type": "code",
   "execution_count": 14,
   "id": "ed16d3db",
   "metadata": {
    "scrolled": true
   },
   "outputs": [],
   "source": [
    "#Создаём таблицу только с классом 'эконом'\n",
    "econom=df[df['Класс К']=='эконом']"
   ]
  },
  {
   "cell_type": "code",
   "execution_count": 15,
   "id": "992a03c6",
   "metadata": {
    "scrolled": false
   },
   "outputs": [
    {
     "data": {
      "text/plain": [
       "1    9113\n",
       "2    6194\n",
       "3    2160\n",
       "4     197\n",
       "0      35\n",
       "Name: Комнат, dtype: int64"
      ]
     },
     "execution_count": 15,
     "metadata": {},
     "output_type": "execute_result"
    }
   ],
   "source": [
    "#Проверяем количество предложений по количеству комнат\n",
    "econom['Комнат'].value_counts()"
   ]
  },
  {
   "cell_type": "markdown",
   "id": "7ef6592d",
   "metadata": {},
   "source": [
    "Квартир эконом класса с 0 комнат предлагается очень мало."
   ]
  },
  {
   "cell_type": "code",
   "execution_count": 16,
   "id": "e518dbb4",
   "metadata": {
    "scrolled": true
   },
   "outputs": [],
   "source": [
    "#Отбираем квартиры класса эконом с 0 комнат\n",
    "econom_0=df[(df['Класс К']=='эконом')&(df['Комнат']==0)]"
   ]
  },
  {
   "cell_type": "code",
   "execution_count": 17,
   "id": "ff586174",
   "metadata": {
    "scrolled": true
   },
   "outputs": [
    {
     "data": {
      "text/plain": [
       "158325.54285714286"
      ]
     },
     "execution_count": 17,
     "metadata": {},
     "output_type": "execute_result"
    }
   ],
   "source": [
    "#Посчитаем среднюю цену кв м по данным квартирам\n",
    "econom_0['Цена кв м'].mean()"
   ]
  },
  {
   "cell_type": "code",
   "execution_count": 18,
   "id": "a4b93b93",
   "metadata": {
    "scrolled": false
   },
   "outputs": [
    {
     "data": {
      "image/png": "[encoded data removed]",
      "text/plain": [
       "<Figure size 432x288 with 1 Axes>"
      ]
     },
     "metadata": {
      "needs_background": "light"
     },
     "output_type": "display_data"
    }
   ],
   "source": [
    "#Построим гистограмму\n",
    "econom_0['Цена кв м'].hist()\n",
    "plt.show()"
   ]
  },
  {
   "cell_type": "markdown",
   "id": "3e6f7b7e",
   "metadata": {},
   "source": [
    "В целом, квартир класса эконом с 0 комнат мало и большинство из них имеют стоимость кв м меньше 120000."
   ]
  },
  {
   "cell_type": "code",
   "execution_count": 19,
   "id": "0f80d136",
   "metadata": {
    "scrolled": false
   },
   "outputs": [
    {
     "data": {
      "text/html": [
       "<div>\n",
       "<style scoped>\n",
       "    .dataframe tbody tr th:only-of-type {\n",
       "        vertical-align: middle;\n",
       "    }\n",
       "\n",
       "    .dataframe tbody tr th {\n",
       "        vertical-align: top;\n",
       "    }\n",
       "\n",
       "    .dataframe thead th {\n",
       "        text-align: right;\n",
       "    }\n",
       "</style>\n",
       "<table border=\"1\" class=\"dataframe\">\n",
       "  <thead>\n",
       "    <tr style=\"text-align: right;\">\n",
       "      <th></th>\n",
       "      <th>ЖК рус</th>\n",
       "      <th>Регион</th>\n",
       "      <th>Цена кв м</th>\n",
       "      <th>Застройщик</th>\n",
       "    </tr>\n",
       "  </thead>\n",
       "  <tbody>\n",
       "    <tr>\n",
       "      <th>130941</th>\n",
       "      <td>Новый Катуар</td>\n",
       "      <td>Московская область</td>\n",
       "      <td>104,860</td>\n",
       "      <td>Гефест</td>\n",
       "    </tr>\n",
       "    <tr>\n",
       "      <th>130942</th>\n",
       "      <td>Новый Катуар</td>\n",
       "      <td>Московская область</td>\n",
       "      <td>107,725</td>\n",
       "      <td>Гефест</td>\n",
       "    </tr>\n",
       "    <tr>\n",
       "      <th>130943</th>\n",
       "      <td>Новый Катуар</td>\n",
       "      <td>Московская область</td>\n",
       "      <td>107,760</td>\n",
       "      <td>Гефест</td>\n",
       "    </tr>\n",
       "    <tr>\n",
       "      <th>130944</th>\n",
       "      <td>Новый Катуар</td>\n",
       "      <td>Московская область</td>\n",
       "      <td>114,135</td>\n",
       "      <td>Гефест</td>\n",
       "    </tr>\n",
       "    <tr>\n",
       "      <th>130945</th>\n",
       "      <td>Новый Катуар</td>\n",
       "      <td>Московская область</td>\n",
       "      <td>114,222</td>\n",
       "      <td>Гефест</td>\n",
       "    </tr>\n",
       "    <tr>\n",
       "      <th>130946</th>\n",
       "      <td>Новый Катуар</td>\n",
       "      <td>Московская область</td>\n",
       "      <td>114,240</td>\n",
       "      <td>Гефест</td>\n",
       "    </tr>\n",
       "    <tr>\n",
       "      <th>130947</th>\n",
       "      <td>Новый Катуар</td>\n",
       "      <td>Московская область</td>\n",
       "      <td>114,243</td>\n",
       "      <td>Гефест</td>\n",
       "    </tr>\n",
       "    <tr>\n",
       "      <th>130948</th>\n",
       "      <td>Новый Катуар</td>\n",
       "      <td>Московская область</td>\n",
       "      <td>114,243</td>\n",
       "      <td>Гефест</td>\n",
       "    </tr>\n",
       "    <tr>\n",
       "      <th>130949</th>\n",
       "      <td>Новый Катуар</td>\n",
       "      <td>Московская область</td>\n",
       "      <td>114,244</td>\n",
       "      <td>Гефест</td>\n",
       "    </tr>\n",
       "  </tbody>\n",
       "</table>\n",
       "</div>"
      ],
      "text/plain": [
       "              ЖК рус              Регион  Цена кв м Застройщик\n",
       "130941  Новый Катуар  Московская область    104,860     Гефест\n",
       "130942  Новый Катуар  Московская область    107,725     Гефест\n",
       "130943  Новый Катуар  Московская область    107,760     Гефест\n",
       "130944  Новый Катуар  Московская область    114,135     Гефест\n",
       "130945  Новый Катуар  Московская область    114,222     Гефест\n",
       "130946  Новый Катуар  Московская область    114,240     Гефест\n",
       "130947  Новый Катуар  Московская область    114,243     Гефест\n",
       "130948  Новый Катуар  Московская область    114,243     Гефест\n",
       "130949  Новый Катуар  Московская область    114,244     Гефест"
      ]
     },
     "execution_count": 19,
     "metadata": {},
     "output_type": "execute_result"
    }
   ],
   "source": [
    "#Оставим в таблице только квартиры дешевле 120000 за кв м и отобразим несколько интересующих столбцов\n",
    "econom_0_do_50=econom_0[econom_0['Цена кв м']<120000]\n",
    "econom_0_do_50[['ЖК рус','Регион','Цена кв м', 'Застройщик']]"
   ]
  },
  {
   "cell_type": "markdown",
   "id": "5fe9bc22",
   "metadata": {},
   "source": [
    "Низкая стоимоть квадратного метра у квартир с 0 комнат класса \"Эконом\" обусловелена тем, что приемущественно, квартиры с такими характеристиками продаются в Московской области одним застройщиком и он предлагает довольно низкую цену за кв м.\n",
    "Квартир с данными характеристиками очень мало и нельзя сделать вывод о справедливой оценке средней цены за кв м."
   ]
  },
  {
   "cell_type": "markdown",
   "id": "9fff50d5",
   "metadata": {},
   "source": [
    "Проанализируем по аналогии квартиры класса \"комфорт\"."
   ]
  },
  {
   "cell_type": "code",
   "execution_count": 20,
   "id": "a4f1ec8d",
   "metadata": {
    "scrolled": false
   },
   "outputs": [],
   "source": [
    "#Создаём таблицу только с классом 'комфорт'\n",
    "comfort=df[df['Класс К']=='комфорт']"
   ]
  },
  {
   "cell_type": "code",
   "execution_count": 21,
   "id": "7949bb2d",
   "metadata": {
    "scrolled": false
   },
   "outputs": [
    {
     "data": {
      "text/plain": [
       "1    24685\n",
       "2    18915\n",
       "3     7899\n",
       "4     1925\n",
       "0      186\n",
       "Name: Комнат, dtype: int64"
      ]
     },
     "execution_count": 21,
     "metadata": {},
     "output_type": "execute_result"
    }
   ],
   "source": [
    "#Проверяем количество предложений по количеству комнат\n",
    "comfort['Комнат'].value_counts()"
   ]
  },
  {
   "cell_type": "markdown",
   "id": "023365e3",
   "metadata": {},
   "source": [
    "Ситуация аналогичная — квартир \"комфорт\" класса с 0 комнат очень мало."
   ]
  },
  {
   "cell_type": "code",
   "execution_count": 22,
   "id": "f0462104",
   "metadata": {
    "scrolled": false
   },
   "outputs": [],
   "source": [
    "#Отбираем квартиры класса эконом с 0 комнат\n",
    "comfort_0=df[(df['Класс К']=='комфорт')&(df['Комнат']==0)]"
   ]
  },
  {
   "cell_type": "code",
   "execution_count": 23,
   "id": "dfa6d18e",
   "metadata": {
    "scrolled": false
   },
   "outputs": [
    {
     "data": {
      "text/plain": [
       "218918.83870967742"
      ]
     },
     "execution_count": 23,
     "metadata": {},
     "output_type": "execute_result"
    }
   ],
   "source": [
    "#Посчитаем среднюю цену кв м по данным квартирам\n",
    "comfort_0['Цена кв м'].mean()"
   ]
  },
  {
   "cell_type": "code",
   "execution_count": 24,
   "id": "57eacf33",
   "metadata": {
    "scrolled": true
   },
   "outputs": [
    {
     "data": {
      "image/png": "[encoded data removed]",
      "text/plain": [
       "<Figure size 432x288 with 1 Axes>"
      ]
     },
     "metadata": {
      "needs_background": "light"
     },
     "output_type": "display_data"
    }
   ],
   "source": [
    "#Построим гистограмму\n",
    "comfort_0['Цена кв м'].hist(bins=10)\n",
    "plt.show()"
   ]
  },
  {
   "cell_type": "markdown",
   "id": "24233dd0",
   "metadata": {},
   "source": [
    "Схожая картина и по графику, большинство квартир имеют цену до 160000 "
   ]
  },
  {
   "cell_type": "code",
   "execution_count": 25,
   "id": "59e9817c",
   "metadata": {
    "scrolled": false
   },
   "outputs": [
    {
     "data": {
      "text/html": [
       "<div>\n",
       "<style scoped>\n",
       "    .dataframe tbody tr th:only-of-type {\n",
       "        vertical-align: middle;\n",
       "    }\n",
       "\n",
       "    .dataframe tbody tr th {\n",
       "        vertical-align: top;\n",
       "    }\n",
       "\n",
       "    .dataframe thead th {\n",
       "        text-align: right;\n",
       "    }\n",
       "</style>\n",
       "<table border=\"1\" class=\"dataframe\">\n",
       "  <thead>\n",
       "    <tr style=\"text-align: right;\">\n",
       "      <th></th>\n",
       "      <th>ЖК рус</th>\n",
       "      <th>Регион</th>\n",
       "      <th>Цена кв м</th>\n",
       "      <th>Застройщик</th>\n",
       "    </tr>\n",
       "  </thead>\n",
       "  <tbody>\n",
       "    <tr>\n",
       "      <th>142643</th>\n",
       "      <td>Эдельвейс Комфорт</td>\n",
       "      <td>Московская область</td>\n",
       "      <td>62,271</td>\n",
       "      <td>РИМЭКА</td>\n",
       "    </tr>\n",
       "    <tr>\n",
       "      <th>142644</th>\n",
       "      <td>Эдельвейс Комфорт</td>\n",
       "      <td>Московская область</td>\n",
       "      <td>69,189</td>\n",
       "      <td>РИМЭКА</td>\n",
       "    </tr>\n",
       "    <tr>\n",
       "      <th>142645</th>\n",
       "      <td>Эдельвейс Комфорт</td>\n",
       "      <td>Московская область</td>\n",
       "      <td>69,189</td>\n",
       "      <td>РИМЭКА</td>\n",
       "    </tr>\n",
       "    <tr>\n",
       "      <th>142646</th>\n",
       "      <td>Эдельвейс Комфорт</td>\n",
       "      <td>Московская область</td>\n",
       "      <td>110,397</td>\n",
       "      <td>РИМЭКА</td>\n",
       "    </tr>\n",
       "    <tr>\n",
       "      <th>142670</th>\n",
       "      <td>Эдельвейс Комфорт</td>\n",
       "      <td>Московская область</td>\n",
       "      <td>122,619</td>\n",
       "      <td>РИМЭКА</td>\n",
       "    </tr>\n",
       "    <tr>\n",
       "      <th>...</th>\n",
       "      <td>...</td>\n",
       "      <td>...</td>\n",
       "      <td>...</td>\n",
       "      <td>...</td>\n",
       "    </tr>\n",
       "    <tr>\n",
       "      <th>142690</th>\n",
       "      <td>Эдельвейс Комфорт</td>\n",
       "      <td>Московская область</td>\n",
       "      <td>148,276</td>\n",
       "      <td>РИМЭКА</td>\n",
       "    </tr>\n",
       "    <tr>\n",
       "      <th>142693</th>\n",
       "      <td>Эдельвейс Комфорт</td>\n",
       "      <td>Московская область</td>\n",
       "      <td>148,276</td>\n",
       "      <td>РИМЭКА</td>\n",
       "    </tr>\n",
       "    <tr>\n",
       "      <th>142685</th>\n",
       "      <td>Эдельвейс Комфорт</td>\n",
       "      <td>Московская область</td>\n",
       "      <td>150,783</td>\n",
       "      <td>РИМЭКА</td>\n",
       "    </tr>\n",
       "    <tr>\n",
       "      <th>142675</th>\n",
       "      <td>Эдельвейс Комфорт</td>\n",
       "      <td>Московская область</td>\n",
       "      <td>151,721</td>\n",
       "      <td>РИМЭКА</td>\n",
       "    </tr>\n",
       "    <tr>\n",
       "      <th>142686</th>\n",
       "      <td>Эдельвейс Комфорт</td>\n",
       "      <td>Московская область</td>\n",
       "      <td>157,994</td>\n",
       "      <td>РИМЭКА</td>\n",
       "    </tr>\n",
       "  </tbody>\n",
       "</table>\n",
       "<p>68 rows × 4 columns</p>\n",
       "</div>"
      ],
      "text/plain": [
       "                   ЖК рус              Регион  Цена кв м Застройщик\n",
       "142643  Эдельвейс Комфорт  Московская область     62,271     РИМЭКА\n",
       "142644  Эдельвейс Комфорт  Московская область     69,189     РИМЭКА\n",
       "142645  Эдельвейс Комфорт  Московская область     69,189     РИМЭКА\n",
       "142646  Эдельвейс Комфорт  Московская область    110,397     РИМЭКА\n",
       "142670  Эдельвейс Комфорт  Московская область    122,619     РИМЭКА\n",
       "...                   ...                 ...        ...        ...\n",
       "142690  Эдельвейс Комфорт  Московская область    148,276     РИМЭКА\n",
       "142693  Эдельвейс Комфорт  Московская область    148,276     РИМЭКА\n",
       "142685  Эдельвейс Комфорт  Московская область    150,783     РИМЭКА\n",
       "142675  Эдельвейс Комфорт  Московская область    151,721     РИМЭКА\n",
       "142686  Эдельвейс Комфорт  Московская область    157,994     РИМЭКА\n",
       "\n",
       "[68 rows x 4 columns]"
      ]
     },
     "execution_count": 25,
     "metadata": {},
     "output_type": "execute_result"
    }
   ],
   "source": [
    "#Оставим в таблице только квартиры дешевле 50000 за кв м и отобразим несколько интересующих столбцов\n",
    "comfort_0_do_160=comfort_0[comfort_0['Цена кв м']<160000]\n",
    "comfort_0_do_160[['ЖК рус','Регион','Цена кв м', 'Застройщик']].sort_values('Цена кв м')"
   ]
  },
  {
   "cell_type": "code",
   "execution_count": 26,
   "id": "af266368",
   "metadata": {
    "scrolled": false
   },
   "outputs": [
    {
     "data": {
      "text/plain": [
       "Московская область    68\n",
       "Name: Регион, dtype: int64"
      ]
     },
     "execution_count": 26,
     "metadata": {},
     "output_type": "execute_result"
    }
   ],
   "source": [
    "comfort_0_do_160['Регион'].value_counts()"
   ]
  },
  {
   "cell_type": "code",
   "execution_count": 27,
   "id": "3fafcb24",
   "metadata": {
    "scrolled": false
   },
   "outputs": [
    {
     "data": {
      "text/plain": [
       "РИМЭКА    51\n",
       "Арс       17\n",
       "Name: Застройщик, dtype: int64"
      ]
     },
     "execution_count": 27,
     "metadata": {},
     "output_type": "execute_result"
    }
   ],
   "source": [
    "comfort_0_do_160['Застройщик'].value_counts()"
   ]
  },
  {
   "cell_type": "markdown",
   "id": "9c8d5a8a",
   "metadata": {},
   "source": [
    "Низкая стоимоть квадратного метра у квартир с 0 комнат класса \"комфорт\" обусловелена тем, что приемущественно, квартиры с такими характеристиками продаются в Московской области двумя застройщиками и они предлагают низкую цену за кв м.\n",
    "Ввиду слишком маленькой выборки таких квартир, делать вывод о справедливой оценке средней цены за кв м также нельзя."
   ]
  }
 ],
 "metadata": {
  "kernelspec": {
   "display_name": "Python 3 (ipykernel)",
   "language": "python",
   "name": "python3"
  },
  "language_info": {
   "codemirror_mode": {
    "name": "ipython",
    "version": 3
   },
   "file_extension": ".py",
   "mimetype": "text/x-python",
   "name": "python",
   "nbconvert_exporter": "python",
   "pygments_lexer": "ipython3",
   "version": "3.9.7"
  },
  "toc": {
   "base_numbering": 1,
   "nav_menu": {},
   "number_sections": true,
   "sideBar": true,
   "skip_h1_title": false,
   "title_cell": "Table of Contents",
   "title_sidebar": "Contents",
   "toc_cell": false,
   "toc_position": {},
   "toc_section_display": true,
   "toc_window_display": false
  }
 },
 "nbformat": 4,
 "nbformat_minor": 5
}
